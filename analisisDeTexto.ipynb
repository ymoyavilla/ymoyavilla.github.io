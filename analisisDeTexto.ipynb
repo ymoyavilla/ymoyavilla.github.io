{
  "nbformat": 4,
  "nbformat_minor": 0,
  "metadata": {
    "colab": {
      "name": "analisisDeTexto.ipynb",
      "provenance": [],
      "authorship_tag": "ABX9TyPvdvGLjUa2j+/EBuK96Q9H",
      "include_colab_link": true
    },
    "kernelspec": {
      "name": "python3",
      "display_name": "Python 3"
    }
  },
  "cells": [
    {
      "cell_type": "markdown",
      "metadata": {
        "id": "view-in-github",
        "colab_type": "text"
      },
      "source": [
        "<a href=\"https://colab.research.google.com/github/ymoyavilla/ymoyavilla.github.io/blob/main/analisisDeTexto.ipynb\" target=\"_parent\"><img src=\"https://colab.research.google.com/assets/colab-badge.svg\" alt=\"Open In Colab\"/></a>"
      ]
    },
    {
      "cell_type": "code",
      "metadata": {
        "id": "r_SuhCRMHSQ0"
      },
      "source": [
        "## Se crea el directorio de entrada\n",
        "!rm -rf input output\n",
        "!mkdir input"
      ],
      "execution_count": null,
      "outputs": []
    },
    {
      "cell_type": "code",
      "metadata": {
        "colab": {
          "base_uri": "https://localhost:8080/"
        },
        "id": "3YBaYJaqHeik",
        "outputId": "fc0b71d7-c033-4576-bfa5-64b2e2499cf5"
      },
      "source": [
        "%%writefile input/text0.txt\n",
        "Analytics is the discovery, interpretation, and communication of meaningful patterns\n",
        "in data. Especially valuable in areas rich with recorded information, analytics relies\n",
        "on the simultaneous application of statistics, computer programming and operations research\n",
        "to quantify performance.\n",
        "\n",
        "Organizations may apply analytics to business data to describe, predict, and improve business\n",
        "performance. Specifically, areas within analytics include predictive analytics, prescriptive\n",
        "analytics, enterprise decision management, descriptive analytics, cognitive analytics, Big\n",
        "Data Analytics, retail analytics, store assortment and stock-keeping unit optimization,\n",
        "marketing optimization and marketing mix modeling, web analytics, call analytics, speech\n",
        "analytics, sales force sizing and optimization, price and promotion modeling, predictive\n",
        "science, credit risk analysis, and fraud analytics. Since analytics can require extensive\n",
        "computation (see big data), the algorithms and software used for analytics harness the most\n",
        "current methods in computer science, statistics, and mathematics."
      ],
      "execution_count": null,
      "outputs": [
        {
          "output_type": "stream",
          "text": [
            "Writing input/text0.txt\n"
          ],
          "name": "stdout"
        }
      ]
    },
    {
      "cell_type": "code",
      "metadata": {
        "colab": {
          "base_uri": "https://localhost:8080/"
        },
        "id": "6Nth3AYtHkuT",
        "outputId": "a6af4b0f-6f81-4599-ea32-f7073bb2acbb"
      },
      "source": [
        "%%writefile input/text1.txt\n",
        "The field of data analysis. Analytics often involves studying past historical data to\n",
        "research potential trends, to analyze the effects of certain decisions or events, or to\n",
        "evaluate the performance of a given tool or scenario. The goal of analytics is to improve\n",
        "the business by gaining knowledge which can be used to make improvements or changes."
      ],
      "execution_count": null,
      "outputs": [
        {
          "output_type": "stream",
          "text": [
            "Writing input/text1.txt\n"
          ],
          "name": "stdout"
        }
      ]
    },
    {
      "cell_type": "code",
      "metadata": {
        "colab": {
          "base_uri": "https://localhost:8080/"
        },
        "id": "PPLTgt63HoTZ",
        "outputId": "ca1ec087-3973-4aaf-f92b-529f8edeee26"
      },
      "source": [
        "\n",
        "%%writefile input/text2.txt\n",
        "Data analytics (DA) is the process of examining data sets in order to draw conclusions\n",
        "about the information they contain, increasingly with the aid of specialized systems\n",
        "and software. Data analytics technologies and techniques are widely used in commercial\n",
        "industries to enable organizations to make more-informed business decisions and by\n",
        "scientists and researchers to verify or disprove scientific models, theories and\n",
        "hypotheses."
      ],
      "execution_count": null,
      "outputs": [
        {
          "output_type": "stream",
          "text": [
            "Writing input/text2.txt\n"
          ],
          "name": "stdout"
        }
      ]
    },
    {
      "cell_type": "code",
      "metadata": {
        "colab": {
          "base_uri": "https://localhost:8080/"
        },
        "id": "u21rcaZ7HrzI",
        "outputId": "b9fb162e-63c4-4323-ff15-74088533ba22"
      },
      "source": [
        "##\n",
        "## Itera sobre todos los archivos de la carpeta `input/`\n",
        "## para realizar la lectura. Note que readlines retorna\n",
        "## una lista de strings, donde cada string es una linea\n",
        "## del archivo\n",
        "##\n",
        "import glob\n",
        "\n",
        "raw_text = []\n",
        "for filename in glob.glob(\"input/*.txt\"):\n",
        "    with open(filename, \"r\") as f:\n",
        "        raw_text += f.readlines()\n",
        "\n",
        "raw_text"
      ],
      "execution_count": null,
      "outputs": [
        {
          "output_type": "execute_result",
          "data": {
            "text/plain": [
              "['Analytics is the discovery, interpretation, and communication of meaningful patterns\\n',\n",
              " 'in data. Especially valuable in areas rich with recorded information, analytics relies\\n',\n",
              " 'on the simultaneous application of statistics, computer programming and operations research\\n',\n",
              " 'to quantify performance.\\n',\n",
              " '\\n',\n",
              " 'Organizations may apply analytics to business data to describe, predict, and improve business\\n',\n",
              " 'performance. Specifically, areas within analytics include predictive analytics, prescriptive\\n',\n",
              " 'analytics, enterprise decision management, descriptive analytics, cognitive analytics, Big\\n',\n",
              " 'Data Analytics, retail analytics, store assortment and stock-keeping unit optimization,\\n',\n",
              " 'marketing optimization and marketing mix modeling, web analytics, call analytics, speech\\n',\n",
              " 'analytics, sales force sizing and optimization, price and promotion modeling, predictive\\n',\n",
              " 'science, credit risk analysis, and fraud analytics. Since analytics can require extensive\\n',\n",
              " 'computation (see big data), the algorithms and software used for analytics harness the most\\n',\n",
              " 'current methods in computer science, statistics, and mathematics.',\n",
              " 'Data analytics (DA) is the process of examining data sets in order to draw conclusions\\n',\n",
              " 'about the information they contain, increasingly with the aid of specialized systems\\n',\n",
              " 'and software. Data analytics technologies and techniques are widely used in commercial\\n',\n",
              " 'industries to enable organizations to make more-informed business decisions and by\\n',\n",
              " 'scientists and researchers to verify or disprove scientific models, theories and\\n',\n",
              " 'hypotheses.',\n",
              " 'The field of data analysis. Analytics often involves studying past historical data to\\n',\n",
              " 'research potential trends, to analyze the effects of certain decisions or events, or to\\n',\n",
              " 'evaluate the performance of a given tool or scenario. The goal of analytics is to improve\\n',\n",
              " 'the business by gaining knowledge which can be used to make improvements or changes.']"
            ]
          },
          "metadata": {
            "tags": []
          },
          "execution_count": 5
        }
      ]
    },
    {
      "cell_type": "code",
      "metadata": {
        "colab": {
          "base_uri": "https://localhost:8080/",
          "height": 137
        },
        "id": "8vaQcF1OHzEj",
        "outputId": "b6336a9f-49ce-4f9a-cdd5-16226f972ad1"
      },
      "source": [
        "\n",
        "## Concatena las cadenas de texto en un solo string\n",
        "raw_text = ' '.join(raw_text)\n",
        "raw_text"
      ],
      "execution_count": null,
      "outputs": [
        {
          "output_type": "execute_result",
          "data": {
            "application/vnd.google.colaboratory.intrinsic+json": {
              "type": "string"
            },
            "text/plain": [
              "'Analytics is the discovery, interpretation, and communication of meaningful patterns\\n in data. Especially valuable in areas rich with recorded information, analytics relies\\n on the simultaneous application of statistics, computer programming and operations research\\n to quantify performance.\\n \\n Organizations may apply analytics to business data to describe, predict, and improve business\\n performance. Specifically, areas within analytics include predictive analytics, prescriptive\\n analytics, enterprise decision management, descriptive analytics, cognitive analytics, Big\\n Data Analytics, retail analytics, store assortment and stock-keeping unit optimization,\\n marketing optimization and marketing mix modeling, web analytics, call analytics, speech\\n analytics, sales force sizing and optimization, price and promotion modeling, predictive\\n science, credit risk analysis, and fraud analytics. Since analytics can require extensive\\n computation (see big data), the algorithms and software used for analytics harness the most\\n current methods in computer science, statistics, and mathematics. Data analytics (DA) is the process of examining data sets in order to draw conclusions\\n about the information they contain, increasingly with the aid of specialized systems\\n and software. Data analytics technologies and techniques are widely used in commercial\\n industries to enable organizations to make more-informed business decisions and by\\n scientists and researchers to verify or disprove scientific models, theories and\\n hypotheses. The field of data analysis. Analytics often involves studying past historical data to\\n research potential trends, to analyze the effects of certain decisions or events, or to\\n evaluate the performance of a given tool or scenario. The goal of analytics is to improve\\n the business by gaining knowledge which can be used to make improvements or changes.'"
            ]
          },
          "metadata": {
            "tags": []
          },
          "execution_count": 6
        }
      ]
    },
    {
      "cell_type": "code",
      "metadata": {
        "colab": {
          "base_uri": "https://localhost:8080/",
          "height": 137
        },
        "id": "bwbt-wO7H3bE",
        "outputId": "72edce8f-917d-45e3-9dc8-f4aacddebfcc"
      },
      "source": [
        "## Remueve los retornos de carro.\n",
        "raw_text = raw_text.replace('\\n', '')\n",
        "raw_text"
      ],
      "execution_count": null,
      "outputs": [
        {
          "output_type": "execute_result",
          "data": {
            "application/vnd.google.colaboratory.intrinsic+json": {
              "type": "string"
            },
            "text/plain": [
              "'Analytics is the discovery, interpretation, and communication of meaningful patterns in data. Especially valuable in areas rich with recorded information, analytics relies on the simultaneous application of statistics, computer programming and operations research to quantify performance.  Organizations may apply analytics to business data to describe, predict, and improve business performance. Specifically, areas within analytics include predictive analytics, prescriptive analytics, enterprise decision management, descriptive analytics, cognitive analytics, Big Data Analytics, retail analytics, store assortment and stock-keeping unit optimization, marketing optimization and marketing mix modeling, web analytics, call analytics, speech analytics, sales force sizing and optimization, price and promotion modeling, predictive science, credit risk analysis, and fraud analytics. Since analytics can require extensive computation (see big data), the algorithms and software used for analytics harness the most current methods in computer science, statistics, and mathematics. Data analytics (DA) is the process of examining data sets in order to draw conclusions about the information they contain, increasingly with the aid of specialized systems and software. Data analytics technologies and techniques are widely used in commercial industries to enable organizations to make more-informed business decisions and by scientists and researchers to verify or disprove scientific models, theories and hypotheses. The field of data analysis. Analytics often involves studying past historical data to research potential trends, to analyze the effects of certain decisions or events, or to evaluate the performance of a given tool or scenario. The goal of analytics is to improve the business by gaining knowledge which can be used to make improvements or changes.'"
            ]
          },
          "metadata": {
            "tags": []
          },
          "execution_count": 7
        }
      ]
    },
    {
      "cell_type": "code",
      "metadata": {
        "colab": {
          "base_uri": "https://localhost:8080/"
        },
        "id": "9mEIjLp-H7At",
        "outputId": "586afab6-53ff-4122-a624-b68ff514a05f"
      },
      "source": [
        "\n",
        "##\n",
        "## Crea un objeto TextBlob a partir del cual se realiza\n",
        "## el proceasmiento\n",
        "##\n",
        "from textblob import TextBlob\n",
        "\n",
        "text = TextBlob(raw_text)\n",
        "text"
      ],
      "execution_count": null,
      "outputs": [
        {
          "output_type": "execute_result",
          "data": {
            "text/plain": [
              "TextBlob(\"Analytics is the discovery, interpretation, and communication of meaningful patterns in data. Especially valuable in areas rich with recorded information, analytics relies on the simultaneous application of statistics, computer programming and operations research to quantify performance.  Organizations may apply analytics to business data to describe, predict, and improve business performance. Specifically, areas within analytics include predictive analytics, prescriptive analytics, enterprise decision management, descriptive analytics, cognitive analytics, Big Data Analytics, retail analytics, store assortment and stock-keeping unit optimization, marketing optimization and marketing mix modeling, web analytics, call analytics, speech analytics, sales force sizing and optimization, price and promotion modeling, predictive science, credit risk analysis, and fraud analytics. Since analytics can require extensive computation (see big data), the algorithms and software used for analytics harness the most current methods in computer science, statistics, and mathematics. Data analytics (DA) is the process of examining data sets in order to draw conclusions about the information they contain, increasingly with the aid of specialized systems and software. Data analytics technologies and techniques are widely used in commercial industries to enable organizations to make more-informed business decisions and by scientists and researchers to verify or disprove scientific models, theories and hypotheses. The field of data analysis. Analytics often involves studying past historical data to research potential trends, to analyze the effects of certain decisions or events, or to evaluate the performance of a given tool or scenario. The goal of analytics is to improve the business by gaining knowledge which can be used to make improvements or changes.\")"
            ]
          },
          "metadata": {
            "tags": []
          },
          "execution_count": 8
        }
      ]
    },
    {
      "cell_type": "code",
      "metadata": {
        "colab": {
          "base_uri": "https://localhost:8080/"
        },
        "id": "8_Gys2nDIGjk",
        "outputId": "d28400c2-5fd8-4baf-cc08-4ee319ccbf36"
      },
      "source": [
        "##\n",
        "## Transformaciones básicas usando las funciones propias de\n",
        "## los strings de Python\n",
        "##\n",
        "text.upper()"
      ],
      "execution_count": null,
      "outputs": [
        {
          "output_type": "execute_result",
          "data": {
            "text/plain": [
              "TextBlob(\"ANALYTICS IS THE DISCOVERY, INTERPRETATION, AND COMMUNICATION OF MEANINGFUL PATTERNS IN DATA. ESPECIALLY VALUABLE IN AREAS RICH WITH RECORDED INFORMATION, ANALYTICS RELIES ON THE SIMULTANEOUS APPLICATION OF STATISTICS, COMPUTER PROGRAMMING AND OPERATIONS RESEARCH TO QUANTIFY PERFORMANCE.  ORGANIZATIONS MAY APPLY ANALYTICS TO BUSINESS DATA TO DESCRIBE, PREDICT, AND IMPROVE BUSINESS PERFORMANCE. SPECIFICALLY, AREAS WITHIN ANALYTICS INCLUDE PREDICTIVE ANALYTICS, PRESCRIPTIVE ANALYTICS, ENTERPRISE DECISION MANAGEMENT, DESCRIPTIVE ANALYTICS, COGNITIVE ANALYTICS, BIG DATA ANALYTICS, RETAIL ANALYTICS, STORE ASSORTMENT AND STOCK-KEEPING UNIT OPTIMIZATION, MARKETING OPTIMIZATION AND MARKETING MIX MODELING, WEB ANALYTICS, CALL ANALYTICS, SPEECH ANALYTICS, SALES FORCE SIZING AND OPTIMIZATION, PRICE AND PROMOTION MODELING, PREDICTIVE SCIENCE, CREDIT RISK ANALYSIS, AND FRAUD ANALYTICS. SINCE ANALYTICS CAN REQUIRE EXTENSIVE COMPUTATION (SEE BIG DATA), THE ALGORITHMS AND SOFTWARE USED FOR ANALYTICS HARNESS THE MOST CURRENT METHODS IN COMPUTER SCIENCE, STATISTICS, AND MATHEMATICS. DATA ANALYTICS (DA) IS THE PROCESS OF EXAMINING DATA SETS IN ORDER TO DRAW CONCLUSIONS ABOUT THE INFORMATION THEY CONTAIN, INCREASINGLY WITH THE AID OF SPECIALIZED SYSTEMS AND SOFTWARE. DATA ANALYTICS TECHNOLOGIES AND TECHNIQUES ARE WIDELY USED IN COMMERCIAL INDUSTRIES TO ENABLE ORGANIZATIONS TO MAKE MORE-INFORMED BUSINESS DECISIONS AND BY SCIENTISTS AND RESEARCHERS TO VERIFY OR DISPROVE SCIENTIFIC MODELS, THEORIES AND HYPOTHESES. THE FIELD OF DATA ANALYSIS. ANALYTICS OFTEN INVOLVES STUDYING PAST HISTORICAL DATA TO RESEARCH POTENTIAL TRENDS, TO ANALYZE THE EFFECTS OF CERTAIN DECISIONS OR EVENTS, OR TO EVALUATE THE PERFORMANCE OF A GIVEN TOOL OR SCENARIO. THE GOAL OF ANALYTICS IS TO IMPROVE THE BUSINESS BY GAINING KNOWLEDGE WHICH CAN BE USED TO MAKE IMPROVEMENTS OR CHANGES.\")"
            ]
          },
          "metadata": {
            "tags": []
          },
          "execution_count": 9
        }
      ]
    },
    {
      "cell_type": "code",
      "metadata": {
        "colab": {
          "base_uri": "https://localhost:8080/"
        },
        "id": "KDWPtk6lIKpO",
        "outputId": "24e4c199-5524-4271-daee-b0aa0804df94"
      },
      "source": [
        "!python -m textblob.download_corpora"
      ],
      "execution_count": null,
      "outputs": [
        {
          "output_type": "stream",
          "text": [
            "[nltk_data] Downloading package brown to /root/nltk_data...\n",
            "[nltk_data]   Unzipping corpora/brown.zip.\n",
            "[nltk_data] Downloading package punkt to /root/nltk_data...\n",
            "[nltk_data]   Unzipping tokenizers/punkt.zip.\n",
            "[nltk_data] Downloading package wordnet to /root/nltk_data...\n",
            "[nltk_data]   Unzipping corpora/wordnet.zip.\n",
            "[nltk_data] Downloading package averaged_perceptron_tagger to\n",
            "[nltk_data]     /root/nltk_data...\n",
            "[nltk_data]   Unzipping taggers/averaged_perceptron_tagger.zip.\n",
            "[nltk_data] Downloading package conll2000 to /root/nltk_data...\n",
            "[nltk_data]   Unzipping corpora/conll2000.zip.\n",
            "[nltk_data] Downloading package movie_reviews to /root/nltk_data...\n",
            "[nltk_data]   Unzipping corpora/movie_reviews.zip.\n",
            "Finished.\n"
          ],
          "name": "stdout"
        }
      ]
    },
    {
      "cell_type": "code",
      "metadata": {
        "colab": {
          "base_uri": "https://localhost:8080/"
        },
        "id": "_XsE5DbXId3n",
        "outputId": "d02c0beb-1019-439c-8382-cb60d4dd0c2b"
      },
      "source": [
        "##\n",
        "## Part-of-speech Tagging (POS-tag)\n",
        "##\n",
        "##    TAG    Descripción                            Ejemplo\n",
        "##    -------------------------------------------------------------------------\n",
        "##    CC     Coordination conjuntion                and, or\n",
        "##    CD     Cardinal number                        one, two, 3\n",
        "##    DT     Determiner                             a, the\n",
        "##    EX     Existential there                      there were two cars\n",
        "##    FW     Foreign word                           hola mundo cruel\n",
        "##    IN     Preposition/subordinating conjunction  of, in, on, that\n",
        "##    JJ     Adjective                              quick, lazy\n",
        "##    JJR    Adjective, comparative                 quicker, lazier\n",
        "##    JJS    Adjective, superlative                 quickest, laziest\n",
        "##    NN     Noun, singular or mass                 fox, dog\n",
        "##    NNS    Noun, plural                           foxes, dogs\n",
        "##    NN PS  Noun, proper singular                  John, Alice\n",
        "##    NNP    Noun, proper plural                    Vikings, Indians, Germans\n",
        "##    ...\n",
        "##\n",
        "text.tags[:20]"
      ],
      "execution_count": null,
      "outputs": [
        {
          "output_type": "execute_result",
          "data": {
            "text/plain": [
              "[('Analytics', 'NNS'),\n",
              " ('is', 'VBZ'),\n",
              " ('the', 'DT'),\n",
              " ('discovery', 'NN'),\n",
              " ('interpretation', 'NN'),\n",
              " ('and', 'CC'),\n",
              " ('communication', 'NN'),\n",
              " ('of', 'IN'),\n",
              " ('meaningful', 'JJ'),\n",
              " ('patterns', 'NNS'),\n",
              " ('in', 'IN'),\n",
              " ('data', 'NNS'),\n",
              " ('Especially', 'RB'),\n",
              " ('valuable', 'JJ'),\n",
              " ('in', 'IN'),\n",
              " ('areas', 'NNS'),\n",
              " ('rich', 'VBP'),\n",
              " ('with', 'IN'),\n",
              " ('recorded', 'JJ'),\n",
              " ('information', 'NN')]"
            ]
          },
          "metadata": {
            "tags": []
          },
          "execution_count": 13
        }
      ]
    },
    {
      "cell_type": "code",
      "metadata": {
        "colab": {
          "base_uri": "https://localhost:8080/"
        },
        "id": "R2SnXe4aJFiE",
        "outputId": "7e397ff5-5934-497d-9020-0368ce488a4d"
      },
      "source": [
        "##\n",
        "## Noun phrase extraction\n",
        "##\n",
        "text.noun_phrases"
      ],
      "execution_count": null,
      "outputs": [
        {
          "output_type": "execute_result",
          "data": {
            "text/plain": [
              "WordList(['analytics', 'meaningful patterns', 'especially', 'analytics relies', 'simultaneous application', 'operations research', 'quantify performance', 'organizations', 'business data', 'business performance', 'specifically', 'predictive analytics', 'prescriptive analytics', 'enterprise decision management', 'descriptive analytics', 'cognitive analytics', 'data analytics', 'retail analytics', 'store assortment', 'unit optimization', 'web analytics', 'speech analytics', 'sales force', 'predictive science', 'credit risk analysis', 'fraud analytics', 'extensive computation', 'big data', 'analytics harness', 'current methods', 'computer science', 'data', 'da', 'data', 'analytics technologies', 'commercial industries', 'enable organizations', 'business decisions', 'scientific models', 'data analysis', 'analytics', 'historical data', 'research potential trends', 'certain decisions'])"
            ]
          },
          "metadata": {
            "tags": []
          },
          "execution_count": 14
        }
      ]
    },
    {
      "cell_type": "code",
      "metadata": {
        "colab": {
          "base_uri": "https://localhost:8080/"
        },
        "id": "IrBST64eJGPL",
        "outputId": "4df94f6b-7ad4-4d5a-8db3-c597982d416d"
      },
      "source": [
        "\n",
        "##\n",
        "## Sentiment Analysis\n",
        "##\n",
        "text.sentiment"
      ],
      "execution_count": null,
      "outputs": [
        {
          "output_type": "execute_result",
          "data": {
            "text/plain": [
              "Sentiment(polarity=0.0885204081632653, subjectivity=0.4217687074829932)"
            ]
          },
          "metadata": {
            "tags": []
          },
          "execution_count": 15
        }
      ]
    },
    {
      "cell_type": "code",
      "metadata": {
        "colab": {
          "base_uri": "https://localhost:8080/"
        },
        "id": "lGbBebQiJGZz",
        "outputId": "c10c4b83-daf4-4b53-db4f-84d788c716cb"
      },
      "source": [
        "##\n",
        "## Tokenization in words\n",
        "##   Note que elimina los signos de puntuación\n",
        "##\n",
        "text.words"
      ],
      "execution_count": null,
      "outputs": [
        {
          "output_type": "execute_result",
          "data": {
            "text/plain": [
              "WordList(['Analytics', 'is', 'the', 'discovery', 'interpretation', 'and', 'communication', 'of', 'meaningful', 'patterns', 'in', 'data', 'Especially', 'valuable', 'in', 'areas', 'rich', 'with', 'recorded', 'information', 'analytics', 'relies', 'on', 'the', 'simultaneous', 'application', 'of', 'statistics', 'computer', 'programming', 'and', 'operations', 'research', 'to', 'quantify', 'performance', 'Organizations', 'may', 'apply', 'analytics', 'to', 'business', 'data', 'to', 'describe', 'predict', 'and', 'improve', 'business', 'performance', 'Specifically', 'areas', 'within', 'analytics', 'include', 'predictive', 'analytics', 'prescriptive', 'analytics', 'enterprise', 'decision', 'management', 'descriptive', 'analytics', 'cognitive', 'analytics', 'Big', 'Data', 'Analytics', 'retail', 'analytics', 'store', 'assortment', 'and', 'stock-keeping', 'unit', 'optimization', 'marketing', 'optimization', 'and', 'marketing', 'mix', 'modeling', 'web', 'analytics', 'call', 'analytics', 'speech', 'analytics', 'sales', 'force', 'sizing', 'and', 'optimization', 'price', 'and', 'promotion', 'modeling', 'predictive', 'science', 'credit', 'risk', 'analysis', 'and', 'fraud', 'analytics', 'Since', 'analytics', 'can', 'require', 'extensive', 'computation', 'see', 'big', 'data', 'the', 'algorithms', 'and', 'software', 'used', 'for', 'analytics', 'harness', 'the', 'most', 'current', 'methods', 'in', 'computer', 'science', 'statistics', 'and', 'mathematics', 'Data', 'analytics', 'DA', 'is', 'the', 'process', 'of', 'examining', 'data', 'sets', 'in', 'order', 'to', 'draw', 'conclusions', 'about', 'the', 'information', 'they', 'contain', 'increasingly', 'with', 'the', 'aid', 'of', 'specialized', 'systems', 'and', 'software', 'Data', 'analytics', 'technologies', 'and', 'techniques', 'are', 'widely', 'used', 'in', 'commercial', 'industries', 'to', 'enable', 'organizations', 'to', 'make', 'more-informed', 'business', 'decisions', 'and', 'by', 'scientists', 'and', 'researchers', 'to', 'verify', 'or', 'disprove', 'scientific', 'models', 'theories', 'and', 'hypotheses', 'The', 'field', 'of', 'data', 'analysis', 'Analytics', 'often', 'involves', 'studying', 'past', 'historical', 'data', 'to', 'research', 'potential', 'trends', 'to', 'analyze', 'the', 'effects', 'of', 'certain', 'decisions', 'or', 'events', 'or', 'to', 'evaluate', 'the', 'performance', 'of', 'a', 'given', 'tool', 'or', 'scenario', 'The', 'goal', 'of', 'analytics', 'is', 'to', 'improve', 'the', 'business', 'by', 'gaining', 'knowledge', 'which', 'can', 'be', 'used', 'to', 'make', 'improvements', 'or', 'changes'])"
            ]
          },
          "metadata": {
            "tags": []
          },
          "execution_count": 16
        }
      ]
    },
    {
      "cell_type": "code",
      "metadata": {
        "colab": {
          "base_uri": "https://localhost:8080/"
        },
        "id": "UMrF_7e1J9KC",
        "outputId": "356b8aa0-8e59-4892-99db-0c10bca8f5ca"
      },
      "source": [
        "##\n",
        "## Tokenization in sentences\n",
        "##\n",
        "text.sentences"
      ],
      "execution_count": null,
      "outputs": [
        {
          "output_type": "execute_result",
          "data": {
            "text/plain": [
              "[Sentence(\"Analytics is the discovery, interpretation, and communication of meaningful patterns in data.\"),\n",
              " Sentence(\"Especially valuable in areas rich with recorded information, analytics relies on the simultaneous application of statistics, computer programming and operations research to quantify performance.\"),\n",
              " Sentence(\"Organizations may apply analytics to business data to describe, predict, and improve business performance.\"),\n",
              " Sentence(\"Specifically, areas within analytics include predictive analytics, prescriptive analytics, enterprise decision management, descriptive analytics, cognitive analytics, Big Data Analytics, retail analytics, store assortment and stock-keeping unit optimization, marketing optimization and marketing mix modeling, web analytics, call analytics, speech analytics, sales force sizing and optimization, price and promotion modeling, predictive science, credit risk analysis, and fraud analytics.\"),\n",
              " Sentence(\"Since analytics can require extensive computation (see big data), the algorithms and software used for analytics harness the most current methods in computer science, statistics, and mathematics.\"),\n",
              " Sentence(\"Data analytics (DA) is the process of examining data sets in order to draw conclusions about the information they contain, increasingly with the aid of specialized systems and software.\"),\n",
              " Sentence(\"Data analytics technologies and techniques are widely used in commercial industries to enable organizations to make more-informed business decisions and by scientists and researchers to verify or disprove scientific models, theories and hypotheses.\"),\n",
              " Sentence(\"The field of data analysis.\"),\n",
              " Sentence(\"Analytics often involves studying past historical data to research potential trends, to analyze the effects of certain decisions or events, or to evaluate the performance of a given tool or scenario.\"),\n",
              " Sentence(\"The goal of analytics is to improve the business by gaining knowledge which can be used to make improvements or changes.\")]"
            ]
          },
          "metadata": {
            "tags": []
          },
          "execution_count": 17
        }
      ]
    },
    {
      "cell_type": "code",
      "metadata": {
        "colab": {
          "base_uri": "https://localhost:8080/"
        },
        "id": "cvolDWtxKCE9",
        "outputId": "b3f47f34-9781-43a2-b747-453c9ead37f7"
      },
      "source": [
        "##\n",
        "## Singulares\n",
        "##\n",
        "text.words[9], text.words[9].singularize()"
      ],
      "execution_count": null,
      "outputs": [
        {
          "output_type": "execute_result",
          "data": {
            "text/plain": [
              "('patterns', 'pattern')"
            ]
          },
          "metadata": {
            "tags": []
          },
          "execution_count": 19
        }
      ]
    },
    {
      "cell_type": "code",
      "metadata": {
        "colab": {
          "base_uri": "https://localhost:8080/"
        },
        "id": "44394o3XL1A4",
        "outputId": "8b847e23-3fb6-4a16-fbcb-1ae7fc8a1631"
      },
      "source": [
        "\n",
        "##\n",
        "## Plurales\n",
        "##\n",
        "text.words[3], text.words[3].pluralize()"
      ],
      "execution_count": null,
      "outputs": [
        {
          "output_type": "execute_result",
          "data": {
            "text/plain": [
              "('discovery', 'discoveries')"
            ]
          },
          "metadata": {
            "tags": []
          },
          "execution_count": 20
        }
      ]
    },
    {
      "cell_type": "code",
      "metadata": {
        "colab": {
          "base_uri": "https://localhost:8080/"
        },
        "id": "7LhJzy-WL4sA",
        "outputId": "ef3ca6a0-b0b5-4d91-ecf9-efd86d36f6ff"
      },
      "source": [
        "##\n",
        "## Lemmatization\n",
        "##\n",
        "text.words.lemmatize()"
      ],
      "execution_count": null,
      "outputs": [
        {
          "output_type": "execute_result",
          "data": {
            "text/plain": [
              "WordList(['Analytics', 'is', 'the', 'discovery', 'interpretation', 'and', 'communication', 'of', 'meaningful', 'pattern', 'in', 'data', 'Especially', 'valuable', 'in', 'area', 'rich', 'with', 'recorded', 'information', 'analytics', 'relies', 'on', 'the', 'simultaneous', 'application', 'of', 'statistic', 'computer', 'programming', 'and', 'operation', 'research', 'to', 'quantify', 'performance', 'Organizations', 'may', 'apply', 'analytics', 'to', 'business', 'data', 'to', 'describe', 'predict', 'and', 'improve', 'business', 'performance', 'Specifically', 'area', 'within', 'analytics', 'include', 'predictive', 'analytics', 'prescriptive', 'analytics', 'enterprise', 'decision', 'management', 'descriptive', 'analytics', 'cognitive', 'analytics', 'Big', 'Data', 'Analytics', 'retail', 'analytics', 'store', 'assortment', 'and', 'stock-keeping', 'unit', 'optimization', 'marketing', 'optimization', 'and', 'marketing', 'mix', 'modeling', 'web', 'analytics', 'call', 'analytics', 'speech', 'analytics', 'sale', 'force', 'sizing', 'and', 'optimization', 'price', 'and', 'promotion', 'modeling', 'predictive', 'science', 'credit', 'risk', 'analysis', 'and', 'fraud', 'analytics', 'Since', 'analytics', 'can', 'require', 'extensive', 'computation', 'see', 'big', 'data', 'the', 'algorithm', 'and', 'software', 'used', 'for', 'analytics', 'harness', 'the', 'most', 'current', 'method', 'in', 'computer', 'science', 'statistic', 'and', 'mathematics', 'Data', 'analytics', 'DA', 'is', 'the', 'process', 'of', 'examining', 'data', 'set', 'in', 'order', 'to', 'draw', 'conclusion', 'about', 'the', 'information', 'they', 'contain', 'increasingly', 'with', 'the', 'aid', 'of', 'specialized', 'system', 'and', 'software', 'Data', 'analytics', 'technology', 'and', 'technique', 'are', 'widely', 'used', 'in', 'commercial', 'industry', 'to', 'enable', 'organization', 'to', 'make', 'more-informed', 'business', 'decision', 'and', 'by', 'scientist', 'and', 'researcher', 'to', 'verify', 'or', 'disprove', 'scientific', 'model', 'theory', 'and', 'hypothesis', 'The', 'field', 'of', 'data', 'analysis', 'Analytics', 'often', 'involves', 'studying', 'past', 'historical', 'data', 'to', 'research', 'potential', 'trend', 'to', 'analyze', 'the', 'effect', 'of', 'certain', 'decision', 'or', 'event', 'or', 'to', 'evaluate', 'the', 'performance', 'of', 'a', 'given', 'tool', 'or', 'scenario', 'The', 'goal', 'of', 'analytics', 'is', 'to', 'improve', 'the', 'business', 'by', 'gaining', 'knowledge', 'which', 'can', 'be', 'used', 'to', 'make', 'improvement', 'or', 'change'])"
            ]
          },
          "metadata": {
            "tags": []
          },
          "execution_count": 21
        }
      ]
    },
    {
      "cell_type": "code",
      "metadata": {
        "id": "LrRIdPOxL5L3"
      },
      "source": [
        "\n",
        "##\n",
        "## Wordnet integration.\n",
        "##   Wordnet es una base de datos léxica, donde los sustantivos, verbos,\n",
        "##   adverbios y adjetivos están agrupados en conjuntos de sinónimos\n",
        "##   cognitios (synsets)\n",
        "##\n",
        "##\n",
        "from textblob import Word"
      ],
      "execution_count": null,
      "outputs": []
    },
    {
      "cell_type": "code",
      "metadata": {
        "colab": {
          "base_uri": "https://localhost:8080/"
        },
        "id": "HYspAz2nL5Qu",
        "outputId": "6f0c0e36-55bc-42bf-e585-aa4e4460c4a8"
      },
      "source": [
        "\n",
        "Word('wind').synsets"
      ],
      "execution_count": null,
      "outputs": [
        {
          "output_type": "execute_result",
          "data": {
            "text/plain": [
              "[Synset('wind.n.01'),\n",
              " Synset('wind.n.02'),\n",
              " Synset('wind.n.03'),\n",
              " Synset('wind.n.04'),\n",
              " Synset('tip.n.03'),\n",
              " Synset('wind_instrument.n.01'),\n",
              " Synset('fart.n.01'),\n",
              " Synset('wind.n.08'),\n",
              " Synset('weave.v.04'),\n",
              " Synset('wind.v.02'),\n",
              " Synset('wind.v.03'),\n",
              " Synset('scent.v.02'),\n",
              " Synset('wind.v.05'),\n",
              " Synset('wreathe.v.03'),\n",
              " Synset('hoist.v.01')]"
            ]
          },
          "metadata": {
            "tags": []
          },
          "execution_count": 24
        }
      ]
    },
    {
      "cell_type": "code",
      "metadata": {
        "colab": {
          "base_uri": "https://localhost:8080/",
          "height": 35
        },
        "id": "QYQl4nkPMPZk",
        "outputId": "d55447fb-92d8-4218-f70e-e6da5d936b3a"
      },
      "source": [
        "##\n",
        "## Synsets\n",
        "##\n",
        "from textblob.wordnet import Synset\n",
        "\n",
        "Synset('wind.n.01').definition()"
      ],
      "execution_count": null,
      "outputs": [
        {
          "output_type": "execute_result",
          "data": {
            "application/vnd.google.colaboratory.intrinsic+json": {
              "type": "string"
            },
            "text/plain": [
              "'air moving (sometimes with considerable force) from an area of high pressure to an area of low pressure'"
            ]
          },
          "metadata": {
            "tags": []
          },
          "execution_count": 25
        }
      ]
    },
    {
      "cell_type": "code",
      "metadata": {
        "colab": {
          "base_uri": "https://localhost:8080/"
        },
        "id": "k1OUybQaMPjs",
        "outputId": "ed88e845-fd5d-434b-c684-d2255d870b3f"
      },
      "source": [
        "##\n",
        "## Iteración sobre los synsets usando definition()\n",
        "##\n",
        "for synset in Word('wind').synsets:\n",
        "    print(synset.definition())"
      ],
      "execution_count": null,
      "outputs": [
        {
          "output_type": "stream",
          "text": [
            "air moving (sometimes with considerable force) from an area of high pressure to an area of low pressure\n",
            "a tendency or force that influences events\n",
            "breath\n",
            "empty rhetoric or insincere or exaggerated talk\n",
            "an indication of potential opportunity\n",
            "a musical instrument in which the sound is produced by an enclosed column of air that is moved by the breath\n",
            "a reflex that expels intestinal gas through the anus\n",
            "the act of winding or twisting\n",
            "to move or cause to move in a sinuous, spiral, or circular course\n",
            "extend in curves and turns\n",
            "arrange or or coil around\n",
            "catch the scent of; get wind of\n",
            "coil the spring of (some mechanical device) by turning a stem\n",
            "form into a wreath\n",
            "raise or haul up with or as if with mechanical help\n"
          ],
          "name": "stdout"
        }
      ]
    },
    {
      "cell_type": "code",
      "metadata": {
        "colab": {
          "base_uri": "https://localhost:8080/"
        },
        "id": "9ivAxsSOMPuf",
        "outputId": "7e6737df-9af5-4128-e543-3cb66b937d09"
      },
      "source": [
        "##\n",
        "## Acceso directo a las definiciones\n",
        "##\n",
        "Word('wind').definitions"
      ],
      "execution_count": null,
      "outputs": [
        {
          "output_type": "execute_result",
          "data": {
            "text/plain": [
              "['air moving (sometimes with considerable force) from an area of high pressure to an area of low pressure',\n",
              " 'a tendency or force that influences events',\n",
              " 'breath',\n",
              " 'empty rhetoric or insincere or exaggerated talk',\n",
              " 'an indication of potential opportunity',\n",
              " 'a musical instrument in which the sound is produced by an enclosed column of air that is moved by the breath',\n",
              " 'a reflex that expels intestinal gas through the anus',\n",
              " 'the act of winding or twisting',\n",
              " 'to move or cause to move in a sinuous, spiral, or circular course',\n",
              " 'extend in curves and turns',\n",
              " 'arrange or or coil around',\n",
              " 'catch the scent of; get wind of',\n",
              " 'coil the spring of (some mechanical device) by turning a stem',\n",
              " 'form into a wreath',\n",
              " 'raise or haul up with or as if with mechanical help']"
            ]
          },
          "metadata": {
            "tags": []
          },
          "execution_count": 28
        }
      ]
    },
    {
      "cell_type": "code",
      "metadata": {
        "colab": {
          "base_uri": "https://localhost:8080/"
        },
        "id": "XNoxUZcbL5Wj",
        "outputId": "1a18f814-ce76-43bd-98a5-db4b4cbd1b9c"
      },
      "source": [
        "##\n",
        "## Corrección de textos.\n",
        "##   corrección de la frase\n",
        "##\n",
        "TextBlob(\"I havv goood speling!\").correct()"
      ],
      "execution_count": null,
      "outputs": [
        {
          "output_type": "execute_result",
          "data": {
            "text/plain": [
              "TextBlob(\"I have good spelling!\")"
            ]
          },
          "metadata": {
            "tags": []
          },
          "execution_count": 29
        }
      ]
    },
    {
      "cell_type": "code",
      "metadata": {
        "colab": {
          "base_uri": "https://localhost:8080/"
        },
        "id": "ZSU9V_EiM7uK",
        "outputId": "d1ea1e0c-370d-48c9-ae0a-1a059a3612fa"
      },
      "source": [
        "##\n",
        "## Corrección de textos.\n",
        "##   corrección de una palabra\n",
        "##\n",
        "Word(\"falibility\").spellcheck()"
      ],
      "execution_count": null,
      "outputs": [
        {
          "output_type": "execute_result",
          "data": {
            "text/plain": [
              "[('fallibility', 1.0)]"
            ]
          },
          "metadata": {
            "tags": []
          },
          "execution_count": 30
        }
      ]
    },
    {
      "cell_type": "code",
      "metadata": {
        "colab": {
          "base_uri": "https://localhost:8080/"
        },
        "id": "5LqXMTlwM8UU",
        "outputId": "a3b8df36-968b-4228-81d3-70871ef70391"
      },
      "source": [
        "##\n",
        "## Frecuencia de la palabras con word_counts\n",
        "##\n",
        "text.word_counts['analytics']"
      ],
      "execution_count": null,
      "outputs": [
        {
          "output_type": "execute_result",
          "data": {
            "text/plain": [
              "20"
            ]
          },
          "metadata": {
            "tags": []
          },
          "execution_count": 31
        }
      ]
    },
    {
      "cell_type": "code",
      "metadata": {
        "colab": {
          "base_uri": "https://localhost:8080/"
        },
        "id": "mdD9DR5OM8Zp",
        "outputId": "113d1725-1859-43ba-9da1-de86c7c9690f"
      },
      "source": [
        "##\n",
        "## Frecuencia usando count\n",
        "##\n",
        "text.words.count('analytics')"
      ],
      "execution_count": null,
      "outputs": [
        {
          "output_type": "execute_result",
          "data": {
            "text/plain": [
              "20"
            ]
          },
          "metadata": {
            "tags": []
          },
          "execution_count": 32
        }
      ]
    },
    {
      "cell_type": "code",
      "metadata": {
        "colab": {
          "base_uri": "https://localhost:8080/"
        },
        "id": "Ubu9n5w5M8co",
        "outputId": "7fc55ef3-0c5f-450a-9bb5-aca5abc79522"
      },
      "source": [
        "##\n",
        "## Conteo sensitivo al caso\n",
        "##\n",
        "text.words.count('analytics', case_sensitive=True)"
      ],
      "execution_count": null,
      "outputs": [
        {
          "output_type": "execute_result",
          "data": {
            "text/plain": [
              "17"
            ]
          },
          "metadata": {
            "tags": []
          },
          "execution_count": 33
        }
      ]
    },
    {
      "cell_type": "code",
      "metadata": {
        "colab": {
          "base_uri": "https://localhost:8080/"
        },
        "id": "lGixBqKkNtX4",
        "outputId": "55c1ca96-60db-4248-c6a8-f45fa418aaa1"
      },
      "source": [
        "##\n",
        "## Conteo sensitivo al caso\n",
        "##\n",
        "text.words.count('analytics', case_sensitive=False)"
      ],
      "execution_count": null,
      "outputs": [
        {
          "output_type": "execute_result",
          "data": {
            "text/plain": [
              "20"
            ]
          },
          "metadata": {
            "tags": []
          },
          "execution_count": 34
        }
      ]
    },
    {
      "cell_type": "code",
      "metadata": {
        "colab": {
          "base_uri": "https://localhost:8080/"
        },
        "id": "BwhUfPZBNtcH",
        "outputId": "5e83dccc-6b2a-404b-d934-693e002689be"
      },
      "source": [
        "\n",
        "##\n",
        "## Noun phrases\n",
        "##\n",
        "text.noun_phrases"
      ],
      "execution_count": null,
      "outputs": [
        {
          "output_type": "execute_result",
          "data": {
            "text/plain": [
              "WordList(['analytics', 'meaningful patterns', 'especially', 'analytics relies', 'simultaneous application', 'operations research', 'quantify performance', 'organizations', 'business data', 'business performance', 'specifically', 'predictive analytics', 'prescriptive analytics', 'enterprise decision management', 'descriptive analytics', 'cognitive analytics', 'data analytics', 'retail analytics', 'store assortment', 'unit optimization', 'web analytics', 'speech analytics', 'sales force', 'predictive science', 'credit risk analysis', 'fraud analytics', 'extensive computation', 'big data', 'analytics harness', 'current methods', 'computer science', 'data', 'da', 'data', 'analytics technologies', 'commercial industries', 'enable organizations', 'business decisions', 'scientific models', 'data analysis', 'analytics', 'historical data', 'research potential trends', 'certain decisions'])"
            ]
          },
          "metadata": {
            "tags": []
          },
          "execution_count": 35
        }
      ]
    },
    {
      "cell_type": "code",
      "metadata": {
        "colab": {
          "base_uri": "https://localhost:8080/"
        },
        "id": "7_FPJBhENthB",
        "outputId": "5bb77c72-3090-4567-cb10-26f53a3f4179"
      },
      "source": [
        "text.noun_phrases.count('analytics')"
      ],
      "execution_count": null,
      "outputs": [
        {
          "output_type": "execute_result",
          "data": {
            "text/plain": [
              "2"
            ]
          },
          "metadata": {
            "tags": []
          },
          "execution_count": 36
        }
      ]
    },
    {
      "cell_type": "code",
      "metadata": {
        "colab": {
          "base_uri": "https://localhost:8080/"
        },
        "id": "irQsG7L0Ntkd",
        "outputId": "abdedfa8-955e-4b7b-8166-851fcd9d75fa"
      },
      "source": [
        "##\n",
        "## Parsing\n",
        "##\n",
        "for t in text.parse().split(' ')[0:15]:\n",
        "    print(t)"
      ],
      "execution_count": null,
      "outputs": [
        {
          "output_type": "stream",
          "text": [
            "Analytics/NNP/B-NP/O\n",
            "is/VBZ/B-VP/O\n",
            "the/DT/B-NP/O\n",
            "discovery/NN/I-NP/O\n",
            ",/,/O/O\n",
            "interpretation/NN/B-NP/O\n",
            ",/,/O/O\n",
            "and/CC/O/O\n",
            "communication/NN/B-NP/O\n",
            "of/IN/B-PP/B-PNP\n",
            "meaningful/JJ/B-NP/I-PNP\n",
            "patterns/NNS/I-NP/I-PNP\n",
            "in/IN/B-PP/B-PNP\n",
            "data/NNS/B-NP/I-PNP\n",
            "././O/O\n",
            "Especially/RB/B-ADJP/O\n"
          ],
          "name": "stdout"
        }
      ]
    },
    {
      "cell_type": "code",
      "metadata": {
        "colab": {
          "base_uri": "https://localhost:8080/"
        },
        "id": "p-ZquMXhNtoB",
        "outputId": "2554be4f-625d-4fa9-9866-03de9c84b289"
      },
      "source": [
        "##\n",
        "## N-gramas\n",
        "##\n",
        "TextBlob(\"Now is better than never.\").ngrams(n=3)"
      ],
      "execution_count": null,
      "outputs": [
        {
          "output_type": "execute_result",
          "data": {
            "text/plain": [
              "[WordList(['Now', 'is', 'better']),\n",
              " WordList(['is', 'better', 'than']),\n",
              " WordList(['better', 'than', 'never'])]"
            ]
          },
          "metadata": {
            "tags": []
          },
          "execution_count": 38
        }
      ]
    },
    {
      "cell_type": "code",
      "metadata": {
        "id": "LBe3IPFhOwrK"
      },
      "source": [
        ""
      ],
      "execution_count": null,
      "outputs": []
    },
    {
      "cell_type": "code",
      "metadata": {
        "id": "KEXKC3hZOw3g"
      },
      "source": [
        "##Ejercicio\n",
        "##De las definiciones de analytics dadas al principio de este documento, construya una lista que contenga únicamente los sustantivos, \n",
        "##adjetivos, verbos y adverbios presentes en el texto.\n",
        "\n",
        "##AYUDA: puede obtener la lista de todos los tags disponibles con el siguiente código:"
      ],
      "execution_count": null,
      "outputs": []
    },
    {
      "cell_type": "code",
      "metadata": {
        "colab": {
          "base_uri": "https://localhost:8080/"
        },
        "id": "CmXDsFmtOGRD",
        "outputId": "58b3e955-1526-4eff-8c5f-d81ea33dceaa"
      },
      "source": [
        "import nltk\n",
        "\n",
        "nltk.download('tagsets')\n",
        "nltk.help.upenn_tagset()"
      ],
      "execution_count": null,
      "outputs": [
        {
          "output_type": "stream",
          "text": [
            "[nltk_data] Downloading package tagsets to /root/nltk_data...\n",
            "[nltk_data]   Package tagsets is already up-to-date!\n",
            "$: dollar\n",
            "    $ -$ --$ A$ C$ HK$ M$ NZ$ S$ U.S.$ US$\n",
            "'': closing quotation mark\n",
            "    ' ''\n",
            "(: opening parenthesis\n",
            "    ( [ {\n",
            "): closing parenthesis\n",
            "    ) ] }\n",
            ",: comma\n",
            "    ,\n",
            "--: dash\n",
            "    --\n",
            ".: sentence terminator\n",
            "    . ! ?\n",
            ":: colon or ellipsis\n",
            "    : ; ...\n",
            "CC: conjunction, coordinating\n",
            "    & 'n and both but either et for less minus neither nor or plus so\n",
            "    therefore times v. versus vs. whether yet\n",
            "CD: numeral, cardinal\n",
            "    mid-1890 nine-thirty forty-two one-tenth ten million 0.5 one forty-\n",
            "    seven 1987 twenty '79 zero two 78-degrees eighty-four IX '60s .025\n",
            "    fifteen 271,124 dozen quintillion DM2,000 ...\n",
            "DT: determiner\n",
            "    all an another any both del each either every half la many much nary\n",
            "    neither no some such that the them these this those\n",
            "EX: existential there\n",
            "    there\n",
            "FW: foreign word\n",
            "    gemeinschaft hund ich jeux habeas Haementeria Herr K'ang-si vous\n",
            "    lutihaw alai je jour objets salutaris fille quibusdam pas trop Monte\n",
            "    terram fiche oui corporis ...\n",
            "IN: preposition or conjunction, subordinating\n",
            "    astride among uppon whether out inside pro despite on by throughout\n",
            "    below within for towards near behind atop around if like until below\n",
            "    next into if beside ...\n",
            "JJ: adjective or numeral, ordinal\n",
            "    third ill-mannered pre-war regrettable oiled calamitous first separable\n",
            "    ectoplasmic battery-powered participatory fourth still-to-be-named\n",
            "    multilingual multi-disciplinary ...\n",
            "JJR: adjective, comparative\n",
            "    bleaker braver breezier briefer brighter brisker broader bumper busier\n",
            "    calmer cheaper choosier cleaner clearer closer colder commoner costlier\n",
            "    cozier creamier crunchier cuter ...\n",
            "JJS: adjective, superlative\n",
            "    calmest cheapest choicest classiest cleanest clearest closest commonest\n",
            "    corniest costliest crassest creepiest crudest cutest darkest deadliest\n",
            "    dearest deepest densest dinkiest ...\n",
            "LS: list item marker\n",
            "    A A. B B. C C. D E F First G H I J K One SP-44001 SP-44002 SP-44005\n",
            "    SP-44007 Second Third Three Two * a b c d first five four one six three\n",
            "    two\n",
            "MD: modal auxiliary\n",
            "    can cannot could couldn't dare may might must need ought shall should\n",
            "    shouldn't will would\n",
            "NN: noun, common, singular or mass\n",
            "    common-carrier cabbage knuckle-duster Casino afghan shed thermostat\n",
            "    investment slide humour falloff slick wind hyena override subhumanity\n",
            "    machinist ...\n",
            "NNP: noun, proper, singular\n",
            "    Motown Venneboerger Czestochwa Ranzer Conchita Trumplane Christos\n",
            "    Oceanside Escobar Kreisler Sawyer Cougar Yvette Ervin ODI Darryl CTCA\n",
            "    Shannon A.K.C. Meltex Liverpool ...\n",
            "NNPS: noun, proper, plural\n",
            "    Americans Americas Amharas Amityvilles Amusements Anarcho-Syndicalists\n",
            "    Andalusians Andes Andruses Angels Animals Anthony Antilles Antiques\n",
            "    Apache Apaches Apocrypha ...\n",
            "NNS: noun, common, plural\n",
            "    undergraduates scotches bric-a-brac products bodyguards facets coasts\n",
            "    divestitures storehouses designs clubs fragrances averages\n",
            "    subjectivists apprehensions muses factory-jobs ...\n",
            "PDT: pre-determiner\n",
            "    all both half many quite such sure this\n",
            "POS: genitive marker\n",
            "    ' 's\n",
            "PRP: pronoun, personal\n",
            "    hers herself him himself hisself it itself me myself one oneself ours\n",
            "    ourselves ownself self she thee theirs them themselves they thou thy us\n",
            "PRP$: pronoun, possessive\n",
            "    her his mine my our ours their thy your\n",
            "RB: adverb\n",
            "    occasionally unabatingly maddeningly adventurously professedly\n",
            "    stirringly prominently technologically magisterially predominately\n",
            "    swiftly fiscally pitilessly ...\n",
            "RBR: adverb, comparative\n",
            "    further gloomier grander graver greater grimmer harder harsher\n",
            "    healthier heavier higher however larger later leaner lengthier less-\n",
            "    perfectly lesser lonelier longer louder lower more ...\n",
            "RBS: adverb, superlative\n",
            "    best biggest bluntest earliest farthest first furthest hardest\n",
            "    heartiest highest largest least less most nearest second tightest worst\n",
            "RP: particle\n",
            "    aboard about across along apart around aside at away back before behind\n",
            "    by crop down ever fast for forth from go high i.e. in into just later\n",
            "    low more off on open out over per pie raising start teeth that through\n",
            "    under unto up up-pp upon whole with you\n",
            "SYM: symbol\n",
            "    % & ' '' ''. ) ). * + ,. < = > @ A[fj] U.S U.S.S.R * ** ***\n",
            "TO: \"to\" as preposition or infinitive marker\n",
            "    to\n",
            "UH: interjection\n",
            "    Goodbye Goody Gosh Wow Jeepers Jee-sus Hubba Hey Kee-reist Oops amen\n",
            "    huh howdy uh dammit whammo shucks heck anyways whodunnit honey golly\n",
            "    man baby diddle hush sonuvabitch ...\n",
            "VB: verb, base form\n",
            "    ask assemble assess assign assume atone attention avoid bake balkanize\n",
            "    bank begin behold believe bend benefit bevel beware bless boil bomb\n",
            "    boost brace break bring broil brush build ...\n",
            "VBD: verb, past tense\n",
            "    dipped pleaded swiped regummed soaked tidied convened halted registered\n",
            "    cushioned exacted snubbed strode aimed adopted belied figgered\n",
            "    speculated wore appreciated contemplated ...\n",
            "VBG: verb, present participle or gerund\n",
            "    telegraphing stirring focusing angering judging stalling lactating\n",
            "    hankerin' alleging veering capping approaching traveling besieging\n",
            "    encrypting interrupting erasing wincing ...\n",
            "VBN: verb, past participle\n",
            "    multihulled dilapidated aerosolized chaired languished panelized used\n",
            "    experimented flourished imitated reunifed factored condensed sheared\n",
            "    unsettled primed dubbed desired ...\n",
            "VBP: verb, present tense, not 3rd person singular\n",
            "    predominate wrap resort sue twist spill cure lengthen brush terminate\n",
            "    appear tend stray glisten obtain comprise detest tease attract\n",
            "    emphasize mold postpone sever return wag ...\n",
            "VBZ: verb, present tense, 3rd person singular\n",
            "    bases reconstructs marks mixes displeases seals carps weaves snatches\n",
            "    slumps stretches authorizes smolders pictures emerges stockpiles\n",
            "    seduces fizzes uses bolsters slaps speaks pleads ...\n",
            "WDT: WH-determiner\n",
            "    that what whatever which whichever\n",
            "WP: WH-pronoun\n",
            "    that what whatever whatsoever which who whom whosoever\n",
            "WP$: WH-pronoun, possessive\n",
            "    whose\n",
            "WRB: Wh-adverb\n",
            "    how however whence whenever where whereby whereever wherein whereof why\n",
            "``: opening quotation mark\n",
            "    ` ``\n"
          ],
          "name": "stdout"
        }
      ]
    },
    {
      "cell_type": "code",
      "metadata": {
        "id": "hncTrtDoOGmE"
      },
      "source": [
        "listaNombres = []\n",
        "listaAdjetivos = []\n",
        "listaAdverbios = []\n",
        "listaVerbos = []\n",
        "for palabra, clase in text.tags:\n",
        "  if clase[0:2] == 'NN':\n",
        "    listaNombres.append(palabra)\n",
        "  elif clase[0:2] == 'JJ':\n",
        "    listaAdjetivos.append(palabra)\n",
        "  elif clase[0:2] == 'RB':\n",
        "    listaAdverbios.append(palabra)\n",
        "  elif clase[0:2] == 'VB':\n",
        "    listaVerbos.append(palabra)  "
      ],
      "execution_count": null,
      "outputs": []
    },
    {
      "cell_type": "code",
      "metadata": {
        "colab": {
          "base_uri": "https://localhost:8080/"
        },
        "id": "PwVVMahOOGuA",
        "outputId": "ff20fd8a-ec1c-4844-d5de-d910045a83ac"
      },
      "source": [
        "listaNombres"
      ],
      "execution_count": null,
      "outputs": [
        {
          "output_type": "execute_result",
          "data": {
            "text/plain": [
              "['Analytics',\n",
              " 'discovery',\n",
              " 'interpretation',\n",
              " 'communication',\n",
              " 'patterns',\n",
              " 'data',\n",
              " 'areas',\n",
              " 'information',\n",
              " 'analytics',\n",
              " 'relies',\n",
              " 'application',\n",
              " 'statistics',\n",
              " 'computer',\n",
              " 'programming',\n",
              " 'operations',\n",
              " 'research',\n",
              " 'performance',\n",
              " 'Organizations',\n",
              " 'analytics',\n",
              " 'business',\n",
              " 'data',\n",
              " 'predict',\n",
              " 'business',\n",
              " 'performance',\n",
              " 'areas',\n",
              " 'analytics',\n",
              " 'analytics',\n",
              " 'analytics',\n",
              " 'decision',\n",
              " 'management',\n",
              " 'analytics',\n",
              " 'analytics',\n",
              " 'Big',\n",
              " 'Data',\n",
              " 'Analytics',\n",
              " 'analytics',\n",
              " 'store',\n",
              " 'assortment',\n",
              " 'unit',\n",
              " 'optimization',\n",
              " 'marketing',\n",
              " 'optimization',\n",
              " 'marketing',\n",
              " 'mix',\n",
              " 'modeling',\n",
              " 'web',\n",
              " 'analytics',\n",
              " 'call',\n",
              " 'analytics',\n",
              " 'speech',\n",
              " 'analytics',\n",
              " 'sales',\n",
              " 'optimization',\n",
              " 'price',\n",
              " 'promotion',\n",
              " 'modeling',\n",
              " 'science',\n",
              " 'credit',\n",
              " 'risk',\n",
              " 'analysis',\n",
              " 'fraud',\n",
              " 'analytics',\n",
              " 'analytics',\n",
              " 'computation',\n",
              " 'data',\n",
              " 'algorithms',\n",
              " 'software',\n",
              " 'analytics',\n",
              " 'methods',\n",
              " 'computer',\n",
              " 'science',\n",
              " 'statistics',\n",
              " 'mathematics',\n",
              " 'Data',\n",
              " 'analytics',\n",
              " 'DA',\n",
              " 'process',\n",
              " 'data',\n",
              " 'sets',\n",
              " 'order',\n",
              " 'conclusions',\n",
              " 'information',\n",
              " 'aid',\n",
              " 'systems',\n",
              " 'software',\n",
              " 'Data',\n",
              " 'analytics',\n",
              " 'technologies',\n",
              " 'techniques',\n",
              " 'industries',\n",
              " 'organizations',\n",
              " 'business',\n",
              " 'decisions',\n",
              " 'scientists',\n",
              " 'researchers',\n",
              " 'models',\n",
              " 'theories',\n",
              " 'hypotheses',\n",
              " 'field',\n",
              " 'data',\n",
              " 'analysis',\n",
              " 'Analytics',\n",
              " 'data',\n",
              " 'research',\n",
              " 'trends',\n",
              " 'effects',\n",
              " 'decisions',\n",
              " 'events',\n",
              " 'performance',\n",
              " 'tool',\n",
              " 'scenario',\n",
              " 'goal',\n",
              " 'analytics',\n",
              " 'business',\n",
              " 'knowledge',\n",
              " 'improvements',\n",
              " 'changes']"
            ]
          },
          "metadata": {
            "tags": []
          },
          "execution_count": 48
        }
      ]
    },
    {
      "cell_type": "code",
      "metadata": {
        "id": "ztLlKHwnOGzd"
      },
      "source": [
        ""
      ],
      "execution_count": null,
      "outputs": []
    }
  ]
}